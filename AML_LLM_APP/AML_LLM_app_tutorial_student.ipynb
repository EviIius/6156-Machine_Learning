{
  "cells": [
    {
      "cell_type": "markdown",
      "metadata": {
        "id": "uo4uNjANQeOi"
      },
      "source": [
        "# 1. Install packages"
      ]
    },
    {
      "cell_type": "code",
      "execution_count": 1,
      "metadata": {
        "id": "leJa6wfcPL1p"
      },
      "outputs": [
        {
          "name": "stdout",
          "output_type": "stream",
          "text": [
            "Collecting anthropic\n",
            "  Downloading anthropic-0.25.4-py3-none-any.whl.metadata (18 kB)\n",
            "Collecting anyio<5,>=3.5.0 (from anthropic)\n",
            "  Downloading anyio-4.3.0-py3-none-any.whl.metadata (4.6 kB)\n",
            "Collecting distro<2,>=1.7.0 (from anthropic)\n",
            "  Downloading distro-1.9.0-py3-none-any.whl.metadata (6.8 kB)\n",
            "Collecting httpx<1,>=0.23.0 (from anthropic)\n",
            "  Downloading httpx-0.27.0-py3-none-any.whl.metadata (7.2 kB)\n",
            "Collecting pydantic<3,>=1.9.0 (from anthropic)\n",
            "  Downloading pydantic-2.7.0-py3-none-any.whl.metadata (103 kB)\n",
            "\u001b[2K     \u001b[90m━━━━━━━━━━━━━━━━━━━━━━━━━━━━━━━━━━━━━━━\u001b[0m \u001b[32m103.4/103.4 kB\u001b[0m \u001b[31m1.2 MB/s\u001b[0m eta \u001b[36m0:00:00\u001b[0m00:01\u001b[0m00:01\u001b[0m\n",
            "\u001b[?25hCollecting sniffio (from anthropic)\n",
            "  Downloading sniffio-1.3.1-py3-none-any.whl.metadata (3.9 kB)\n",
            "Collecting tokenizers>=0.13.0 (from anthropic)\n",
            "  Downloading tokenizers-0.19.1-cp310-cp310-macosx_10_12_x86_64.whl.metadata (6.7 kB)\n",
            "Requirement already satisfied: typing-extensions<5,>=4.7 in /Users/jakebrulato/Documents/GitHub/6156-Machine_Learning/.venv/lib/python3.10/site-packages (from anthropic) (4.10.0)\n",
            "Requirement already satisfied: idna>=2.8 in /Users/jakebrulato/Documents/GitHub/6156-Machine_Learning/.venv/lib/python3.10/site-packages (from anyio<5,>=3.5.0->anthropic) (3.6)\n",
            "Requirement already satisfied: exceptiongroup>=1.0.2 in /Users/jakebrulato/Documents/GitHub/6156-Machine_Learning/.venv/lib/python3.10/site-packages (from anyio<5,>=3.5.0->anthropic) (1.2.0)\n",
            "Requirement already satisfied: certifi in /Users/jakebrulato/Documents/GitHub/6156-Machine_Learning/.venv/lib/python3.10/site-packages (from httpx<1,>=0.23.0->anthropic) (2024.2.2)\n",
            "Collecting httpcore==1.* (from httpx<1,>=0.23.0->anthropic)\n",
            "  Downloading httpcore-1.0.5-py3-none-any.whl.metadata (20 kB)\n",
            "Collecting h11<0.15,>=0.13 (from httpcore==1.*->httpx<1,>=0.23.0->anthropic)\n",
            "  Downloading h11-0.14.0-py3-none-any.whl.metadata (8.2 kB)\n",
            "Collecting annotated-types>=0.4.0 (from pydantic<3,>=1.9.0->anthropic)\n",
            "  Downloading annotated_types-0.6.0-py3-none-any.whl.metadata (12 kB)\n",
            "Collecting pydantic-core==2.18.1 (from pydantic<3,>=1.9.0->anthropic)\n",
            "  Downloading pydantic_core-2.18.1-cp310-cp310-macosx_10_12_x86_64.whl.metadata (6.5 kB)\n",
            "Collecting huggingface-hub<1.0,>=0.16.4 (from tokenizers>=0.13.0->anthropic)\n",
            "  Downloading huggingface_hub-0.22.2-py3-none-any.whl.metadata (12 kB)\n",
            "Requirement already satisfied: filelock in /Users/jakebrulato/Documents/GitHub/6156-Machine_Learning/.venv/lib/python3.10/site-packages (from huggingface-hub<1.0,>=0.16.4->tokenizers>=0.13.0->anthropic) (3.13.3)\n",
            "Requirement already satisfied: fsspec>=2023.5.0 in /Users/jakebrulato/Documents/GitHub/6156-Machine_Learning/.venv/lib/python3.10/site-packages (from huggingface-hub<1.0,>=0.16.4->tokenizers>=0.13.0->anthropic) (2024.3.1)\n",
            "Requirement already satisfied: packaging>=20.9 in /Users/jakebrulato/Documents/GitHub/6156-Machine_Learning/.venv/lib/python3.10/site-packages (from huggingface-hub<1.0,>=0.16.4->tokenizers>=0.13.0->anthropic) (23.2)\n",
            "Collecting pyyaml>=5.1 (from huggingface-hub<1.0,>=0.16.4->tokenizers>=0.13.0->anthropic)\n",
            "  Using cached PyYAML-6.0.1-cp310-cp310-macosx_10_9_x86_64.whl.metadata (2.1 kB)\n",
            "Requirement already satisfied: requests in /Users/jakebrulato/Documents/GitHub/6156-Machine_Learning/.venv/lib/python3.10/site-packages (from huggingface-hub<1.0,>=0.16.4->tokenizers>=0.13.0->anthropic) (2.31.0)\n",
            "Collecting tqdm>=4.42.1 (from huggingface-hub<1.0,>=0.16.4->tokenizers>=0.13.0->anthropic)\n",
            "  Using cached tqdm-4.66.2-py3-none-any.whl.metadata (57 kB)\n",
            "Requirement already satisfied: charset-normalizer<4,>=2 in /Users/jakebrulato/Documents/GitHub/6156-Machine_Learning/.venv/lib/python3.10/site-packages (from requests->huggingface-hub<1.0,>=0.16.4->tokenizers>=0.13.0->anthropic) (3.3.2)\n",
            "Requirement already satisfied: urllib3<3,>=1.21.1 in /Users/jakebrulato/Documents/GitHub/6156-Machine_Learning/.venv/lib/python3.10/site-packages (from requests->huggingface-hub<1.0,>=0.16.4->tokenizers>=0.13.0->anthropic) (2.2.1)\n",
            "Downloading anthropic-0.25.4-py3-none-any.whl (870 kB)\n",
            "\u001b[2K   \u001b[90m━━━━━━━━━━━━━━━━━━━━━━━━━━━━━━━━━━━━━━━━\u001b[0m \u001b[32m870.7/870.7 kB\u001b[0m \u001b[31m5.8 MB/s\u001b[0m eta \u001b[36m0:00:00\u001b[0ma \u001b[36m0:00:01\u001b[0m\n",
            "\u001b[?25hDownloading anyio-4.3.0-py3-none-any.whl (85 kB)\n",
            "\u001b[2K   \u001b[90m━━━━━━━━━━━━━━━━━━━━━━━━━━━━━━━━━━━━━━━━\u001b[0m \u001b[32m85.6/85.6 kB\u001b[0m \u001b[31m2.6 MB/s\u001b[0m eta \u001b[36m0:00:00\u001b[0m\n",
            "\u001b[?25hDownloading distro-1.9.0-py3-none-any.whl (20 kB)\n",
            "Downloading httpx-0.27.0-py3-none-any.whl (75 kB)\n",
            "\u001b[2K   \u001b[90m━━━━━━━━━━━━━━━━━━━━━━━━━━━━━━━━━━━━━━━━\u001b[0m \u001b[32m75.6/75.6 kB\u001b[0m \u001b[31m2.7 MB/s\u001b[0m eta \u001b[36m0:00:00\u001b[0m\n",
            "\u001b[?25hDownloading httpcore-1.0.5-py3-none-any.whl (77 kB)\n",
            "\u001b[2K   \u001b[90m━━━━━━━━━━━━━━━━━━━━━━━━━━━━━━━━━━━━━━━━\u001b[0m \u001b[32m77.9/77.9 kB\u001b[0m \u001b[31m2.8 MB/s\u001b[0m eta \u001b[36m0:00:00\u001b[0m\n",
            "\u001b[?25hDownloading pydantic-2.7.0-py3-none-any.whl (407 kB)\n",
            "\u001b[2K   \u001b[90m━━━━━━━━━━━━━━━━━━━━━━━━━━━━━━━━━━━━━━━━\u001b[0m \u001b[32m407.9/407.9 kB\u001b[0m \u001b[31m6.2 MB/s\u001b[0m eta \u001b[36m0:00:00\u001b[0m:00:01\u001b[0m\n",
            "\u001b[?25hDownloading pydantic_core-2.18.1-cp310-cp310-macosx_10_12_x86_64.whl (1.9 MB)\n",
            "\u001b[2K   \u001b[90m━━━━━━━━━━━━━━━━━━━━━━━━━━━━━━━━━━━━━━━━\u001b[0m \u001b[32m1.9/1.9 MB\u001b[0m \u001b[31m10.2 MB/s\u001b[0m eta \u001b[36m0:00:00\u001b[0ma \u001b[36m0:00:01\u001b[0m\n",
            "\u001b[?25hDownloading sniffio-1.3.1-py3-none-any.whl (10 kB)\n",
            "Downloading tokenizers-0.19.1-cp310-cp310-macosx_10_12_x86_64.whl (2.5 MB)\n",
            "\u001b[2K   \u001b[90m━━━━━━━━━━━━━━━━━━━━━━━━━━━━━━━━━━━━━━━━\u001b[0m \u001b[32m2.5/2.5 MB\u001b[0m \u001b[31m12.7 MB/s\u001b[0m eta \u001b[36m0:00:00\u001b[0m00:01\u001b[0m00:01\u001b[0m\n",
            "\u001b[?25hDownloading annotated_types-0.6.0-py3-none-any.whl (12 kB)\n",
            "Downloading huggingface_hub-0.22.2-py3-none-any.whl (388 kB)\n",
            "\u001b[2K   \u001b[90m━━━━━━━━━━━━━━━━━━━━━━━━━━━━━━━━━━━━━━━━\u001b[0m \u001b[32m388.9/388.9 kB\u001b[0m \u001b[31m8.1 MB/s\u001b[0m eta \u001b[36m0:00:00\u001b[0mta \u001b[36m0:00:01\u001b[0m\n",
            "\u001b[?25hUsing cached h11-0.14.0-py3-none-any.whl (58 kB)\n",
            "Using cached PyYAML-6.0.1-cp310-cp310-macosx_10_9_x86_64.whl (189 kB)\n",
            "Using cached tqdm-4.66.2-py3-none-any.whl (78 kB)\n",
            "Installing collected packages: tqdm, sniffio, pyyaml, pydantic-core, h11, distro, annotated-types, pydantic, huggingface-hub, httpcore, anyio, tokenizers, httpx, anthropic\n",
            "Successfully installed annotated-types-0.6.0 anthropic-0.25.4 anyio-4.3.0 distro-1.9.0 h11-0.14.0 httpcore-1.0.5 httpx-0.27.0 huggingface-hub-0.22.2 pydantic-2.7.0 pydantic-core-2.18.1 pyyaml-6.0.1 sniffio-1.3.1 tokenizers-0.19.1 tqdm-4.66.2\n",
            "zsh:1: command not found: npm\n"
          ]
        }
      ],
      "source": [
        "# install required packages\n",
        "!pip install -q streamlit\n",
        "!pip install anthropic\n",
        "!npm install localtunnel\n"
      ]
    },
    {
      "cell_type": "markdown",
      "metadata": {
        "id": "FOAimc3aQbkw"
      },
      "source": [
        "# 2. Create streamlit app\n",
        "\n",
        "%%writefile app.py instruct Jupyter to write the contents of the cell to a file named app.py"
      ]
    },
    {
      "cell_type": "code",
      "execution_count": null,
      "metadata": {
        "id": "VKs7sARGbhh1"
      },
      "outputs": [],
      "source": [
        "%%writefile app.py\n",
        "\n",
        "import streamlit as st\n",
        "import anthropic\n",
        "import re\n",
        "\n",
        "anthropic_api_key = ''\n",
        "\n",
        "sys_prompt = ''' '''\n",
        "\n",
        "# Anthropic client\n",
        "client = # FILL IN\n",
        "\n",
        "# Initialize chat history\n",
        "\n",
        "# FILL IN\n",
        "\n",
        "# Iterate through external message history and display chat\n",
        "for message in st.session_state.messages:\n",
        "    # FILL IN\n",
        "\n",
        "# Accept user input\n",
        "if prompt #FILL IN # assigns and returns the value\n",
        "    # Add user message to chat history\n",
        "\n",
        "    # FILL IN\n",
        "\n",
        "    # Display user message in chat message container\n",
        "    with st.chat_message(\"user\"):\n",
        "        st.markdown(prompt)\n",
        "\n",
        "    with st.chat_message(\"assistant\"):\n",
        "        # Display assistant response in chat message container\n",
        "        response = # FILL IN\n",
        "\n",
        "        response = # FILL IN\n",
        "\n",
        "\n",
        "\n",
        "        # Search for the pattern in the input string\n",
        "        # FILL IN\n",
        "\n",
        "\n",
        "        st.session_state.messages.append({\"role\": \"assistant\", \"content\": #FILL IN})\n",
        "        print(st.session_state.messages)\n",
        "\n"
      ]
    },
    {
      "cell_type": "code",
      "execution_count": null,
      "metadata": {
        "id": "KiE11GxHPdWN"
      },
      "outputs": [],
      "source": [
        "# run streamlit from app.py file and create logs\n",
        "!streamlit run app.py &>/content/logs.txt & curl ipv4.icanhazip.com"
      ]
    },
    {
      "cell_type": "code",
      "execution_count": null,
      "metadata": {
        "id": "i5OjswI5PUIE"
      },
      "outputs": [],
      "source": [
        "!npx localtunnel --port 8501"
      ]
    },
    {
      "cell_type": "code",
      "execution_count": null,
      "metadata": {
        "id": "Y0vUGGyklO7a"
      },
      "outputs": [],
      "source": [
        "from pprint import pprint"
      ]
    },
    {
      "cell_type": "code",
      "execution_count": null,
      "metadata": {
        "id": "GHU9xGJVjkEV"
      },
      "outputs": [],
      "source": [
        "# Open the file and read its contents\n",
        "with open('logs.txt', 'r') as file:\n",
        "    contents = file.read()\n",
        "\n",
        "# Pretty-print the dictionary\n",
        "pprint(contents)"
      ]
    }
  ],
  "metadata": {
    "colab": {
      "provenance": []
    },
    "kernelspec": {
      "display_name": "Python 3",
      "name": "python3"
    },
    "language_info": {
      "codemirror_mode": {
        "name": "ipython",
        "version": 3
      },
      "file_extension": ".py",
      "mimetype": "text/x-python",
      "name": "python",
      "nbconvert_exporter": "python",
      "pygments_lexer": "ipython3",
      "version": "3.10.11"
    }
  },
  "nbformat": 4,
  "nbformat_minor": 0
}
