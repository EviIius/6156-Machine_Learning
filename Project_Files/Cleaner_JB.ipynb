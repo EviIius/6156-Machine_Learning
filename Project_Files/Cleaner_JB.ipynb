{
 "cells": [
  {
   "cell_type": "code",
   "execution_count": 8,
   "metadata": {},
   "outputs": [
    {
     "name": "stderr",
     "output_type": "stream",
     "text": [
      "2024-03-31 20:50:51.093911: I tensorflow/core/platform/cpu_feature_guard.cc:210] This TensorFlow binary is optimized to use available CPU instructions in performance-critical operations.\n",
      "To enable the following instructions: AVX2 FMA, in other operations, rebuild TensorFlow with the appropriate compiler flags.\n"
     ]
    }
   ],
   "source": [
    "import pandas as pd\n",
    "import numpy as np\n",
    "import statsmodels.api as sm\n",
    "from sklearn.model_selection import train_test_split\n",
    "from sklearn import svm, datasets\n",
    "import matplotlib.pyplot as plt\n",
    "import torch\n",
    "import torch.nn as nn\n",
    "import torch.optim as optim\n",
    "from tensorflow.keras.models import Sequential\n",
    "from tensorflow.keras.layers import Dense\n",
    "from tensorflow.keras.optimizers import Adam"
   ]
  },
  {
   "cell_type": "markdown",
   "metadata": {},
   "source": [
    "# **Persona 1 SMOTE/RF/SVM/NN**"
   ]
  },
  {
   "cell_type": "code",
   "execution_count": 10,
   "metadata": {},
   "outputs": [
    {
     "name": "stdout",
     "output_type": "stream",
     "text": [
      "age               0\n",
      "job               0\n",
      "marital           0\n",
      "education         0\n",
      "default           0\n",
      "housing           0\n",
      "loan              0\n",
      "contact           0\n",
      "month             0\n",
      "day_of_week       0\n",
      "duration          0\n",
      "campaign          0\n",
      "pdays             0\n",
      "previous          0\n",
      "poutcome          0\n",
      "emp.var.rate      0\n",
      "cons.price.idx    0\n",
      "cons.conf.idx     0\n",
      "euribor3m         0\n",
      "nr.employed       0\n",
      "y                 0\n",
      "dtype: int64\n",
      "<class 'pandas.core.frame.DataFrame'>\n",
      "RangeIndex: 41188 entries, 0 to 41187\n",
      "Data columns (total 21 columns):\n",
      " #   Column          Non-Null Count  Dtype  \n",
      "---  ------          --------------  -----  \n",
      " 0   age             41188 non-null  int64  \n",
      " 1   job             41188 non-null  object \n",
      " 2   marital         41188 non-null  object \n",
      " 3   education       41188 non-null  object \n",
      " 4   default         41188 non-null  object \n",
      " 5   housing         41188 non-null  object \n",
      " 6   loan            41188 non-null  object \n",
      " 7   contact         41188 non-null  object \n",
      " 8   month           41188 non-null  object \n",
      " 9   day_of_week     41188 non-null  object \n",
      " 10  duration        41188 non-null  int64  \n",
      " 11  campaign        41188 non-null  int64  \n",
      " 12  pdays           41188 non-null  int64  \n",
      " 13  previous        41188 non-null  int64  \n",
      " 14  poutcome        41188 non-null  object \n",
      " 15  emp.var.rate    41188 non-null  float64\n",
      " 16  cons.price.idx  41188 non-null  float64\n",
      " 17  cons.conf.idx   41188 non-null  float64\n",
      " 18  euribor3m       41188 non-null  float64\n",
      " 19  nr.employed     41188 non-null  float64\n",
      " 20  y               41188 non-null  object \n",
      "dtypes: float64(5), int64(5), object(11)\n",
      "memory usage: 6.6+ MB\n",
      "age               0\n",
      "job               0\n",
      "marital           0\n",
      "education         0\n",
      "default           0\n",
      "housing           0\n",
      "loan              0\n",
      "contact           0\n",
      "month             0\n",
      "day_of_week       0\n",
      "duration          0\n",
      "campaign          0\n",
      "pdays             0\n",
      "previous          0\n",
      "poutcome          0\n",
      "emp.var.rate      0\n",
      "cons.price.idx    0\n",
      "cons.conf.idx     0\n",
      "euribor3m         0\n",
      "nr.employed       0\n",
      "y                 0\n",
      "dtype: int64\n"
     ]
    },
    {
     "data": {
      "text/plain": [
       "y\n",
       "0    25608\n",
       "1    25608\n",
       "Name: count, dtype: int64"
      ]
     },
     "execution_count": 10,
     "metadata": {},
     "output_type": "execute_result"
    }
   ],
   "source": [
    "from imblearn.over_sampling import SMOTE\n",
    "from sklearn.model_selection import train_test_split\n",
    "from sklearn.preprocessing import StandardScaler\n",
    "import pandas as pd\n",
    "\n",
    "# Load dataset\n",
    "data = pd.read_csv('bank-additional-full.csv', delimiter=';')\n",
    "#Calculate the nulls and then drop them\n",
    "print(data.isnull().sum())\n",
    "#vv Comment out below this line to see the total nulls for each column vv\n",
    "data = data.dropna()\n",
    "data.info()\n",
    "print(data.isnull().sum())\n",
    "data = data.drop_duplicates()\n",
    "data\n",
    "\n",
    "# Since SMOTE works with numeric data, we need to convert categorical variables into dummy/indicator variables\n",
    "data_dummy = pd.get_dummies(data.drop('y', axis=1))\n",
    "\n",
    "# Encode target variable\n",
    "data['y'] = data['y'].map({'no': 0, 'yes': 1})\n",
    "\n",
    "# Split data into features and target\n",
    "X = data_dummy[['marital_married', 'job_self-employed', 'education_university.degree', 'loan_yes', 'age', 'housing_yes']]\n",
    "y = data['y']\n",
    "\n",
    "# It's generally a good idea to scale the features before applying SMOTE, as distance-based algorithms can be sensitive to the scale of the data\n",
    "scaler = StandardScaler()\n",
    "X_scaled = scaler.fit_transform(X)\n",
    "\n",
    "# Splitting the dataset into training and testing set to demonstrate how SMOTE should be applied only to the training set\n",
    "X_train, X_test, y_train, y_test = train_test_split(X_scaled, y, test_size=0.3, random_state=42)\n",
    "\n",
    "# Applying SMOTE to the training data\n",
    "smote = SMOTE(random_state=42)\n",
    "X_res, y_res = smote.fit_resample(X_train, y_train)\n",
    "\n",
    "# Checking the class distribution after applying SMOTE\n",
    "balanced_data_check = pd.Series(y_res).value_counts()\n",
    "\n",
    "balanced_data_check"
   ]
  },
  {
   "cell_type": "code",
   "execution_count": 11,
   "metadata": {},
   "outputs": [
    {
     "name": "stdout",
     "output_type": "stream",
     "text": [
      "Start search time: 2024-03-31 20:52:53.215315\n",
      "Fitting 5 folds for each of 36 candidates, totalling 180 fits\n"
     ]
    }
   ],
   "source": [
    "# Random Forest - Fine tuning with GridSearchCV\n",
    "# using datetime to time the fine tuning process\n",
    "from datetime import datetime\n",
    "print(\"Start search time:\", datetime.now())\n",
    "\n",
    "from sklearn.ensemble import RandomForestClassifier\n",
    "\n",
    "# find the best parameters\n",
    "from sklearn.model_selection import GridSearchCV\n",
    "\n",
    "# RF -- Tunning parameters\n",
    "# Define the parameter grid\n",
    "param = {\n",
    "    'n_estimators': [100, 200, 300],  # Number of trees in the forest\n",
    "    'max_features': ['sqrt', 'log2'],  # Number of features to consider at every split\n",
    "    'max_depth': [4, 6, 8],  # Maximum number of levels in tree\n",
    "    'criterion': ['gini', 'entropy']  # Function to measure the quality of a split\n",
    "}\n",
    "\n",
    "RF = RandomForestClassifier(random_state=10)\n",
    "\n",
    "# search parameters: cv=cross validation blocks; verbose=higher value show more steps\n",
    "# n_jobs=-1 uses all available CPU cores;\n",
    "grid = GridSearchCV(estimator=RF,\n",
    "                    param_grid=param,\n",
    "                    scoring=\"accuracy\",\n",
    "                    verbose=1, cv=5)\n",
    "\n",
    "grid.fit(X_res, y_res)\n",
    "\n",
    "print(\"Best parameters:\", grid.best_params_)\n",
    "\n",
    "print(\"Best estimator:\", grid.best_estimator_)\n",
    "\n",
    "print(\"Feature importance:\", grid.best_estimator_.feature_importances_)\n",
    "\n",
    "# end grid search\n",
    "print(\"End search time:\", datetime.now())"
   ]
  },
  {
   "cell_type": "code",
   "execution_count": 6,
   "metadata": {},
   "outputs": [
    {
     "name": "stdout",
     "output_type": "stream",
     "text": [
      "\n",
      "Accuracy: 0.8875940762320952\n",
      "              precision    recall  f1-score   support\n",
      "\n",
      "           0       0.89      1.00      0.94     10968\n",
      "           1       0.00      0.00      0.00      1389\n",
      "\n",
      "    accuracy                           0.89     12357\n",
      "   macro avg       0.44      0.50      0.47     12357\n",
      "weighted avg       0.79      0.89      0.83     12357\n",
      "\n"
     ]
    },
    {
     "name": "stderr",
     "output_type": "stream",
     "text": [
      "/Users/jakebrulato/Documents/GitHub/6156-Machine_Learning/.venv/lib/python3.10/site-packages/sklearn/metrics/_classification.py:1509: UndefinedMetricWarning: Precision is ill-defined and being set to 0.0 in labels with no predicted samples. Use `zero_division` parameter to control this behavior.\n",
      "  _warn_prf(average, modifier, f\"{metric.capitalize()} is\", len(result))\n",
      "/Users/jakebrulato/Documents/GitHub/6156-Machine_Learning/.venv/lib/python3.10/site-packages/sklearn/metrics/_classification.py:1509: UndefinedMetricWarning: Precision is ill-defined and being set to 0.0 in labels with no predicted samples. Use `zero_division` parameter to control this behavior.\n",
      "  _warn_prf(average, modifier, f\"{metric.capitalize()} is\", len(result))\n",
      "/Users/jakebrulato/Documents/GitHub/6156-Machine_Learning/.venv/lib/python3.10/site-packages/sklearn/metrics/_classification.py:1509: UndefinedMetricWarning: Precision is ill-defined and being set to 0.0 in labels with no predicted samples. Use `zero_division` parameter to control this behavior.\n",
      "  _warn_prf(average, modifier, f\"{metric.capitalize()} is\", len(result))\n"
     ]
    },
    {
     "data": {
      "image/png": "[encoded data removed]",
      "text/plain": [
       "<Figure size 640x480 with 2 Axes>"
      ]
     },
     "metadata": {},
     "output_type": "display_data"
    }
   ],
   "source": [
    "import sklearn.metrics as metrics\n",
    "# confusion matrix\n",
    "\n",
    "final_model_rf = grid.best_estimator_\n",
    "\n",
    "y_pred = final_model_rf.predict(X_test)\n",
    "\n",
    "# get accuracy and confusion matrix\n",
    "accuracy = metrics.accuracy_score(y_test, y_pred)\n",
    "print(\"\\nAccuracy:\", accuracy)\n",
    "report = classification_report(y_test, y_pred)\n",
    "print(report)\n",
    "\n",
    "\n",
    "cm = metrics.confusion_matrix(y_test,y_pred) # row - true value; column - predicted\n",
    "disp = metrics.ConfusionMatrixDisplay(confusion_matrix=cm).plot()"
   ]
  },
  {
   "cell_type": "markdown",
   "metadata": {},
   "source": [
    "## SVM"
   ]
  },
  {
   "cell_type": "code",
   "execution_count": 9,
   "metadata": {},
   "outputs": [
    {
     "name": "stdout",
     "output_type": "stream",
     "text": [
      "Start search time: 2024-03-31 20:51:13.008589\n"
     ]
    },
    {
     "ename": "NameError",
     "evalue": "name 'SVC' is not defined",
     "output_type": "error",
     "traceback": [
      "\u001b[0;31m---------------------------------------------------------------------------\u001b[0m",
      "\u001b[0;31mNameError\u001b[0m                                 Traceback (most recent call last)",
      "Cell \u001b[0;32mIn[9], line 16\u001b[0m\n\u001b[1;32m      9\u001b[0m \u001b[38;5;66;03m# SVM -- Tunning parameters\u001b[39;00m\n\u001b[1;32m     10\u001b[0m param \u001b[38;5;241m=\u001b[39m {\n\u001b[1;32m     11\u001b[0m     \u001b[38;5;124m'\u001b[39m\u001b[38;5;124mC\u001b[39m\u001b[38;5;124m'\u001b[39m:[\u001b[38;5;241m.00001\u001b[39m, \u001b[38;5;241m.0001\u001b[39m, \u001b[38;5;241m.001\u001b[39m, \u001b[38;5;241m0.01\u001b[39m],\n\u001b[1;32m     12\u001b[0m     \u001b[38;5;124m'\u001b[39m\u001b[38;5;124mgamma\u001b[39m\u001b[38;5;124m'\u001b[39m: [\u001b[38;5;241m.00001\u001b[39m, \u001b[38;5;241m.0001\u001b[39m, \u001b[38;5;241m.001\u001b[39m, \u001b[38;5;241m.01\u001b[39m], \u001b[38;5;66;03m# 1/n_features\u001b[39;00m\n\u001b[1;32m     13\u001b[0m     \u001b[38;5;124m'\u001b[39m\u001b[38;5;124mkernel\u001b[39m\u001b[38;5;124m'\u001b[39m: [\u001b[38;5;124m'\u001b[39m\u001b[38;5;124mrbf\u001b[39m\u001b[38;5;124m'\u001b[39m,\u001b[38;5;124m'\u001b[39m\u001b[38;5;124mlinear\u001b[39m\u001b[38;5;124m'\u001b[39m]\n\u001b[1;32m     14\u001b[0m }\n\u001b[0;32m---> 16\u001b[0m SVM \u001b[38;5;241m=\u001b[39m \u001b[43mSVC\u001b[49m(random_state\u001b[38;5;241m=\u001b[39m\u001b[38;5;241m10\u001b[39m)\n\u001b[1;32m     19\u001b[0m \u001b[38;5;66;03m# search parameters: cv=cross validation blocks; verbose=higher value show more steps\u001b[39;00m\n\u001b[1;32m     20\u001b[0m \u001b[38;5;66;03m# n_jobs=-1 uses all available CPU cores;\u001b[39;00m\n\u001b[1;32m     21\u001b[0m grid \u001b[38;5;241m=\u001b[39m GridSearchCV(estimator\u001b[38;5;241m=\u001b[39m SVM,\n\u001b[1;32m     22\u001b[0m                     param_grid\u001b[38;5;241m=\u001b[39mparam,\n\u001b[1;32m     23\u001b[0m                     verbose\u001b[38;5;241m=\u001b[39m\u001b[38;5;241m3\u001b[39m, cv\u001b[38;5;241m=\u001b[39m\u001b[38;5;241m3\u001b[39m,\n\u001b[1;32m     24\u001b[0m                     refit\u001b[38;5;241m=\u001b[39m\u001b[38;5;28;01mTrue\u001b[39;00m)\n",
      "\u001b[0;31mNameError\u001b[0m: name 'SVC' is not defined"
     ]
    }
   ],
   "source": [
    "# SVM - Fine tuning with GridSearchCV\n",
    "# using datetime to time the fine tuning process\n",
    "from datetime import datetime\n",
    "print(\"Start search time:\", datetime.now())\n",
    "\n",
    "# find the best parameters\n",
    "from sklearn.model_selection import GridSearchCV\n",
    "\n",
    "# SVM -- Tunning parameters\n",
    "param = {\n",
    "    'C':[.00001, .0001, .001, 0.01],\n",
    "    'gamma': [.00001, .0001, .001, .01], # 1/n_features\n",
    "    'kernel': ['rbf','linear']\n",
    "}\n",
    "\n",
    "SVM = SVC(random_state=10)\n",
    "\n",
    "\n",
    "# search parameters: cv=cross validation blocks; verbose=higher value show more steps\n",
    "# n_jobs=-1 uses all available CPU cores;\n",
    "grid = GridSearchCV(estimator= SVM,\n",
    "                    param_grid=param,\n",
    "                    verbose=3, cv=3,\n",
    "                    refit=True)\n",
    "\n",
    "grid.fit(X_train, y_train)\n",
    "\n",
    "print(\"Best parameters:\", grid.best_params_)\n",
    "\n",
    "print(\"Best estimator:\", grid.best_estimator_)\n",
    "\n",
    "# end grid search\n",
    "print(\"End search time:\", datetime.now())"
   ]
  },
  {
   "cell_type": "code",
   "execution_count": null,
   "metadata": {},
   "outputs": [],
   "source": [
    "# confusion matrix\n",
    "\n",
    "final_model_svm = grid.best_estimator_\n",
    "\n",
    "y_pred = final_model_svm.predict(X_test_JB)\n",
    "\n",
    "# get accuracy and confusion matrix\n",
    "accuracy = metrics.accuracy_score(y_test_JB, y_pred)\n",
    "print(\"\\nAccuracy:\", accuracy)\n",
    "report = classification_report(y_test, y_pred)\n",
    "print(report)\n",
    "\n",
    "cm = metrics.confusion_matrix(y_test_JB,y_pred) # row - true value; column - predicted\n",
    "disp = metrics.ConfusionMatrixDisplay(confusion_matrix=cm).plot()\n",
    "# disp.plot()\n",
    "plt.show() # display all open figures"
   ]
  },
  {
   "cell_type": "markdown",
   "metadata": {},
   "source": [
    "## RNN"
   ]
  },
  {
   "cell_type": "code",
   "execution_count": null,
   "metadata": {},
   "outputs": [],
   "source": [
    "import pandas as pd\n",
    "from sklearn.model_selection import train_test_split\n",
    "from sklearn.preprocessing import StandardScaler\n",
    "\n",
    "# Load the dataset\n",
    "bank_df = pd.read_csv('bank-additional-full.csv', sep=';')\n",
    "\n",
    "# For the demonstration, let's select 'age' and 'duration' as features\n",
    "features = X\n",
    "target = y\n",
    "\n",
    "# Split the dataset into training and test sets\n",
    "X_train, X_test, y_train, y_test = train_test_split(features, target, test_size=0.2, random_state=42)\n",
    "\n",
    "# Scale the features\n",
    "scaler = StandardScaler()\n",
    "X_train_scaled = scaler.fit_transform(X_train)\n",
    "X_test_scaled = scaler.transform(X_test)"
   ]
  },
  {
   "cell_type": "code",
   "execution_count": null,
   "metadata": {},
   "outputs": [],
   "source": [
    "import torch\n",
    "\n",
    "X_train_tensor = torch.tensor(X_train_scaled, dtype=torch.float32)\n",
    "y_train_tensor = torch.tensor(y_train.values, dtype=torch.float32).unsqueeze(1)  # Adding a singleton dimension for labels\n",
    "X_test_tensor = torch.tensor(X_test_scaled, dtype=torch.float32)\n",
    "y_test_tensor = torch.tensor(y_test.values, dtype=torch.float32).unsqueeze(1)"
   ]
  },
  {
   "cell_type": "code",
   "execution_count": null,
   "metadata": {},
   "outputs": [],
   "source": [
    "# Define a neural network without activation function\n",
    "class LinearModel(nn.Module):\n",
    "    def __init__(self):\n",
    "        super(LinearModel, self).__init__()\n",
    "        # self.fc = nn.Linear(3, 2)  # Linear layer 1\n",
    "        # self.fc = nn.Linear(2, 1) #Linear layer 1\n",
    "        self.fc1 = nn.Linear(2, 8)\n",
    "        self.fc2 = nn.Linear(8, 1)\n",
    "\n",
    "    def forward(self, x):\n",
    "        x = self.fc1(x)\n",
    "        x = self.fc2(x)\n",
    "        return x\n",
    "        # return self.fc(x)\n",
    "\n",
    "# Define a neural network with activation function\n",
    "class NeuralNetwork(nn.Module):\n",
    "    def __init__(self):\n",
    "        super(NeuralNetwork, self).__init__()\n",
    "        self.fc1 = nn.Linear(2, 8)  # Linear layer\n",
    "        self.activation = nn.ReLU()       # Activation function (ReLU)-\n",
    "        self.fc2 = nn.Linear(8, 1)  # Linear layer\n",
    "\n",
    "    def forward(self, x):\n",
    "        x = self.activation(self.fc1(x))  # Activation function (ReLU) after first layer\n",
    "        x = self.fc2(x)\n",
    "        return x\n",
    "\n",
    "print(\"Linear Model\")\n",
    "model = LinearModel()\n",
    "print(model)\n",
    "print(\"Neural Network\")\n",
    "model = NeuralNetwork()\n",
    "print(model)"
   ]
  },
  {
   "cell_type": "code",
   "execution_count": null,
   "metadata": {},
   "outputs": [],
   "source": [
    "# Train the model\n",
    "def train(model, criterion, optimizer, X, y, epochs=1000):\n",
    "    for epoch in range(epochs):\n",
    "        optimizer.zero_grad()\n",
    "        output = model(X)\n",
    "        loss = criterion(output, y)\n",
    "        loss.backward()\n",
    "        optimizer.step()\n",
    "\n",
    "\n",
    "def plot_decision_boundary(X, y, model, title):\n",
    "    X = X.numpy()\n",
    "    y = y.numpy().squeeze()  # Squeeze the y tensor to remove extra dimension\n",
    "    plt.scatter(X[y==0][:,0], X[y==0][:,1], color='blue', label='Class 0') #data points of class=0\n",
    "    plt.scatter(X[y==1][:,0], X[y==1][:,1], color='red', label='Class 1') #data points of class=1\n",
    "\n",
    "    # Creating a meshgrid for all the possible values of features\n",
    "    x_min, x_max = X[:, 0].min() - 0.1, X[:, 0].max() + 0.1 #Padding of 0.1\n",
    "    y_min, y_max = X[:, 1].min() - 0.1, X[:, 1].max() + 0.1\n",
    "    xx, yy = np.meshgrid(np.linspace(x_min, x_max, 100), np.linspace(y_min, y_max, 100)) #Create 100*100 meshgrid points evenly spaced between x_max x_min for x-axis and y_max,y_min for y_axis\n",
    "    X_grid = np.c_[xx.ravel(), yy.ravel()] #Flattens the dataset.\n",
    "\n",
    "    print('X_grid')\n",
    "    display(X_grid)\n",
    "\n",
    "\n",
    "    # Predict the class for each meshgrid point\n",
    "    Z = model(torch.tensor(X_grid, dtype=torch.float32)).detach().numpy().reshape(xx.shape)\n",
    "    # Plot the decision boundary using contour lines\n",
    "    plt.contour(xx, yy, Z,colors='green', linestyles='dashed', linewidths=2,MaxNLocator=0,levels=0) #Connects the point where the probabilities for (class 0 and class 1) are equal giving us contours\n",
    "\n",
    "    plt.xlim(xx.min(), xx.max())\n",
    "    plt.ylim(yy.min(), yy.max())\n",
    "    plt.title(title)\n",
    "    plt.xlabel('X1')\n",
    "    plt.ylabel('X2')\n",
    "    plt.legend()\n",
    "    plt.show()"
   ]
  },
  {
   "cell_type": "code",
   "execution_count": null,
   "metadata": {},
   "outputs": [],
   "source": [
    "# Create models, criterion, and optimizer\n",
    "linear_model = LinearModel()\n",
    "neural_network = NeuralNetwork()\n",
    "criterion = nn.BCEWithLogitsLoss()  #Loss function\n",
    "optimizer_linear = optim.SGD(linear_model.parameters(), lr=0.1)\n",
    "optimizer_neural = optim.SGD(neural_network.parameters(), lr=0.1)\n",
    "\n",
    "# Train the models\n",
    "train(linear_model, criterion, optimizer_linear, X_train_tensor, y_train_tensor)\n",
    "train(neural_network, criterion, optimizer_neural, X_train_tensor, y_train_tensor)"
   ]
  },
  {
   "cell_type": "code",
   "execution_count": null,
   "metadata": {},
   "outputs": [],
   "source": [
    "# Plot decision boundaries\n",
    "plot_decision_boundary(X_train_tensor, y_train_tensor, linear_model, 'Linear Model Decision Boundary')\n",
    "plot_decision_boundary(X_train_tensor, y_train_tensor, neural_network, 'Neural Network Decision Boundary')"
   ]
  }
 ],
 "metadata": {
  "kernelspec": {
   "display_name": ".venv",
   "language": "python",
   "name": "python3"
  },
  "language_info": {
   "codemirror_mode": {
    "name": "ipython",
    "version": 3
   },
   "file_extension": ".py",
   "mimetype": "text/x-python",
   "name": "python",
   "nbconvert_exporter": "python",
   "pygments_lexer": "ipython3",
   "version": "3.10.11"
  }
 },
 "nbformat": 4,
 "nbformat_minor": 2
}
